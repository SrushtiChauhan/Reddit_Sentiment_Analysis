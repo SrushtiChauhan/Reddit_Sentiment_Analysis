{
  "nbformat": 4,
  "nbformat_minor": 0,
  "metadata": {
    "colab": {
      "name": "Extract emogies from text",
      "provenance": [],
      "collapsed_sections": []
    },
    "kernelspec": {
      "name": "python3",
      "display_name": "Python 3"
    },
    "language_info": {
      "name": "python"
    }
  },
  "cells": [
    {
      "cell_type": "markdown",
      "source": [
        "#Reference \n",
        "https://stackoverflow.com/questions/43146528/how-to-extract-all-the-emojis-from-text\n",
        "\n",
        "https://localcoder.org/how-to-extract-all-the-emojis-from-text\n"
      ],
      "metadata": {
        "id": "qMW449FckWpw"
      }
    },
    {
      "cell_type": "code",
      "execution_count": 11,
      "metadata": {
        "id": "j5yDmA9TfjVs"
      },
      "outputs": [],
      "source": [
        "a_list = ['🤔 🙈 me así, bla es se 😌 ds 💕👭']\n",
        "#o/p = new_lis = ['🤔 🙈 😌 💕 👭']"
      ]
    },
    {
      "cell_type": "code",
      "source": [
        "!pip install emoji"
      ],
      "metadata": {
        "colab": {
          "base_uri": "https://localhost:8080/"
        },
        "id": "eKM0nf5Ofstj",
        "outputId": "ac3f7cdd-9019-44b4-fa7d-cd907b49f0fc"
      },
      "execution_count": 17,
      "outputs": [
        {
          "output_type": "stream",
          "name": "stdout",
          "text": [
            "Requirement already satisfied: emoji in /usr/local/lib/python3.7/dist-packages (1.7.0)\n"
          ]
        }
      ]
    },
    {
      "cell_type": "code",
      "source": [
        "import emoji\n",
        "import regex\n",
        "\n",
        "def split_count(text):\n",
        "\n",
        "    emoji_list = []\n",
        "    data = regex.findall(r'\\X', text)\n",
        "    for word in data:\n",
        "        if any(char in emoji.UNICODE_EMOJI['en'] for char in word):\n",
        "            emoji_list.append(word)\n",
        "    \n",
        "    return emoji_list"
      ],
      "metadata": {
        "id": "SYo_XrXdfoPe"
      },
      "execution_count": 13,
      "outputs": []
    },
    {
      "cell_type": "code",
      "source": [
        "split_count('🤔 🙈 me así, bla es se 😌 ds 💕👭')"
      ],
      "metadata": {
        "colab": {
          "base_uri": "https://localhost:8080/"
        },
        "id": "_aV5_RkufxVC",
        "outputId": "aaf83ea6-1239-4b3a-cdc8-38ffc31806b9"
      },
      "execution_count": 14,
      "outputs": [
        {
          "output_type": "execute_result",
          "data": {
            "text/plain": [
              "['🤔', '🙈', '😌', '💕', '👭']"
            ]
          },
          "metadata": {},
          "execution_count": 14
        }
      ]
    },
    {
      "cell_type": "code",
      "source": [
        "line = [\"🤔 🙈 me así, se 😌 ds 💕👭👙 hello 👩🏾‍🎓 emoji hello 👨‍👩‍👦‍👦 how are 😊 you today🙅🏽🙅🏽\"]\n",
        "\n",
        "counter = split_count(line[0])\n",
        "print(' '.join(emoji for emoji in counter))"
      ],
      "metadata": {
        "colab": {
          "base_uri": "https://localhost:8080/"
        },
        "id": "ZyBYbZYEjQoL",
        "outputId": "c9054689-4e55-43a0-be0b-693a5d6537a8"
      },
      "execution_count": 15,
      "outputs": [
        {
          "output_type": "stream",
          "name": "stdout",
          "text": [
            "🤔 🙈 😌 💕 👭 👙 👩🏾‍🎓 👨‍👩‍👦‍👦 😊 🙅🏽 🙅🏽\n"
          ]
        }
      ]
    },
    {
      "cell_type": "code",
      "source": [
        "!pip install emojis"
      ],
      "metadata": {
        "colab": {
          "base_uri": "https://localhost:8080/"
        },
        "id": "kPmqBDB-jjvO",
        "outputId": "8e80e89a-4b09-44ed-c0d9-4285e343498b"
      },
      "execution_count": 18,
      "outputs": [
        {
          "output_type": "stream",
          "name": "stdout",
          "text": [
            "Collecting emojis\n",
            "  Downloading emojis-0.6.0-py3-none-any.whl (27 kB)\n",
            "Installing collected packages: emojis\n",
            "Successfully installed emojis-0.6.0\n"
          ]
        }
      ]
    },
    {
      "cell_type": "code",
      "source": [
        "import emojis\n",
        "new_list = emojis.get('🤔 🙈 me así, bla es se 😌 ds 💕👭👙')\n",
        "print(new_list)\n",
        "\n",
        "#output>>>{'😌', '🙈', '👭', '💕', '🤔'}"
      ],
      "metadata": {
        "colab": {
          "base_uri": "https://localhost:8080/"
        },
        "id": "15mM1XifjeVE",
        "outputId": "f06890f5-2eaf-4f45-bf1b-15343497fcb6"
      },
      "execution_count": 19,
      "outputs": [
        {
          "output_type": "stream",
          "name": "stdout",
          "text": [
            "{'🙈', '🤔', '👙', '😌', '💕', '👭'}\n"
          ]
        }
      ]
    },
    {
      "cell_type": "code",
      "source": [
        "import re\n",
        "re.findall(r'[^\\w\\s,]', a_list[0])\n",
        "#['🤔', '🙈', '😌', '💕', '👭']"
      ],
      "metadata": {
        "colab": {
          "base_uri": "https://localhost:8080/"
        },
        "id": "4W1YJtbYjmhc",
        "outputId": "80a52920-0111-498e-8bf6-0c950bc86597"
      },
      "execution_count": 20,
      "outputs": [
        {
          "output_type": "execute_result",
          "data": {
            "text/plain": [
              "['🤔', '🙈', '😌', '💕', '👭']"
            ]
          },
          "metadata": {},
          "execution_count": 20
        }
      ]
    },
    {
      "cell_type": "code",
      "source": [
        "import emoji\n",
        "import re\n",
        "text= '🤔 🙈 me así, bla es se 😌 ds 💕👭👙'\n",
        "text_de= emoji.demojize(text)\n",
        "text_de"
      ],
      "metadata": {
        "colab": {
          "base_uri": "https://localhost:8080/",
          "height": 35
        },
        "id": "iyVK8SVTj9Uc",
        "outputId": "21be2f29-6347-4659-c26d-dfab4c4e572b"
      },
      "execution_count": 22,
      "outputs": [
        {
          "output_type": "execute_result",
          "data": {
            "text/plain": [
              "':thinking_face: :see-no-evil_monkey: me así, bla es se :relieved_face: ds :two_hearts::women_holding_hands::bikini:'"
            ],
            "application/vnd.google.colaboratory.intrinsic+json": {
              "type": "string"
            }
          },
          "metadata": {},
          "execution_count": 22
        }
      ]
    },
    {
      "cell_type": "code",
      "source": [
        "emojis_list_de= re.findall(r'(:[!_\\-\\w]+:)', text_de)\n",
        "list_emoji= [emoji.emojize(x) for x in emojis_list_de]\n",
        "list_emoji"
      ],
      "metadata": {
        "colab": {
          "base_uri": "https://localhost:8080/"
        },
        "id": "JzyDKUDAkEFG",
        "outputId": "b4f051eb-cea8-40da-ca31-03022290f382"
      },
      "execution_count": 24,
      "outputs": [
        {
          "output_type": "execute_result",
          "data": {
            "text/plain": [
              "['🤔', '🙈', '😌', '💕', '👭', '👙']"
            ]
          },
          "metadata": {},
          "execution_count": 24
        }
      ]
    },
    {
      "cell_type": "code",
      "source": [
        "# -*- coding: utf-8 -*-\n",
        "import emoji\n",
        "import re\n",
        "\n",
        "text = \"\"\"\n",
        "Of course, too many emoji characters \\\n",
        "😊 like 😏, #@^!*&#@^# 🤕 helps 🐯 people read 😂aa😂aaa😂a #douchebag\n",
        "\"\"\"\n",
        "\n",
        "text = emoji.demojize(text)\n",
        "text = re.findall(r'(:[^:]*:)', text)\n",
        "list_emoji = [emoji.emojize(x) for x in text]\n",
        "print(list_emoji)"
      ],
      "metadata": {
        "colab": {
          "base_uri": "https://localhost:8080/"
        },
        "id": "3M3XAO5ukRdK",
        "outputId": "b3bcb3a4-a972-48d7-861a-5189cc56d0be"
      },
      "execution_count": 25,
      "outputs": [
        {
          "output_type": "stream",
          "name": "stdout",
          "text": [
            "['😊', '😏', '🤕', '🐯', '😂', '😂', '😂']\n"
          ]
        }
      ]
    },
    {
      "cell_type": "code",
      "source": [
        "line = [\"🤔 🙈 me así, se 😌 ds 💕👭👙 hello 👩🏾‍🎓 emoji hello 👨‍👩‍👦‍👦 how are 😊 you today🙅🏽🙅🏽\"]\n",
        "\n",
        "counter = split_count(line[0])\n",
        "print(' '.join(emoji for emoji in counter))"
      ],
      "metadata": {
        "colab": {
          "base_uri": "https://localhost:8080/"
        },
        "id": "NytlARtUkmi2",
        "outputId": "4eb62ddc-feaa-4603-e787-9c21cfaf9f8c"
      },
      "execution_count": 26,
      "outputs": [
        {
          "output_type": "stream",
          "name": "stdout",
          "text": [
            "🤔 🙈 😌 💕 👭 👙 👩🏾‍🎓 👨‍👩‍👦‍👦 😊 🙅🏽 🙅🏽\n"
          ]
        }
      ]
    },
    {
      "cell_type": "code",
      "source": [
        ""
      ],
      "metadata": {
        "id": "k44kUCQDkngB"
      },
      "execution_count": null,
      "outputs": []
    }
  ]
}