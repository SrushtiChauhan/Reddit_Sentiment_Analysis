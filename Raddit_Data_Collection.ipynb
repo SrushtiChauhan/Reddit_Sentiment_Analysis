{
  "nbformat": 4,
  "nbformat_minor": 0,
  "metadata": {
    "colab": {
      "name": "Raddit_Data_Collection",
      "provenance": [],
      "collapsed_sections": []
    },
    "kernelspec": {
      "name": "python3",
      "display_name": "Python 3"
    },
    "language_info": {
      "name": "python"
    }
  },
  "cells": [
    {
      "cell_type": "code",
      "execution_count": 1,
      "metadata": {
        "id": "tlDqpT-HG3Pl",
        "colab": {
          "base_uri": "https://localhost:8080/"
        },
        "outputId": "b2937c4d-f936-4eaa-b68b-4b197510b9ea"
      },
      "outputs": [
        {
          "output_type": "stream",
          "name": "stdout",
          "text": [
            "Collecting praw\n",
            "  Downloading praw-7.5.0-py3-none-any.whl (176 kB)\n",
            "\u001b[?25l\r\u001b[K     |█▉                              | 10 kB 19.6 MB/s eta 0:00:01\r\u001b[K     |███▊                            | 20 kB 5.1 MB/s eta 0:00:01\r\u001b[K     |█████▋                          | 30 kB 7.0 MB/s eta 0:00:01\r\u001b[K     |███████▍                        | 40 kB 6.2 MB/s eta 0:00:01\r\u001b[K     |█████████▎                      | 51 kB 7.4 MB/s eta 0:00:01\r\u001b[K     |███████████▏                    | 61 kB 8.5 MB/s eta 0:00:01\r\u001b[K     |█████████████                   | 71 kB 9.6 MB/s eta 0:00:01\r\u001b[K     |██████████████▉                 | 81 kB 10.5 MB/s eta 0:00:01\r\u001b[K     |████████████████▊               | 92 kB 11.6 MB/s eta 0:00:01\r\u001b[K     |██████████████████▋             | 102 kB 12.4 MB/s eta 0:00:01\r\u001b[K     |████████████████████▍           | 112 kB 12.4 MB/s eta 0:00:01\r\u001b[K     |██████████████████████▎         | 122 kB 12.4 MB/s eta 0:00:01\r\u001b[K     |████████████████████████▏       | 133 kB 12.4 MB/s eta 0:00:01\r\u001b[K     |██████████████████████████      | 143 kB 12.4 MB/s eta 0:00:01\r\u001b[K     |███████████████████████████▉    | 153 kB 12.4 MB/s eta 0:00:01\r\u001b[K     |█████████████████████████████▊  | 163 kB 12.4 MB/s eta 0:00:01\r\u001b[K     |███████████████████████████████▌| 174 kB 12.4 MB/s eta 0:00:01\r\u001b[K     |████████████████████████████████| 176 kB 12.4 MB/s \n",
            "\u001b[?25hCollecting prawcore<3,>=2.1\n",
            "  Downloading prawcore-2.3.0-py3-none-any.whl (16 kB)\n",
            "Collecting update-checker>=0.18\n",
            "  Downloading update_checker-0.18.0-py3-none-any.whl (7.0 kB)\n",
            "Collecting websocket-client>=0.54.0\n",
            "  Downloading websocket_client-1.3.2-py3-none-any.whl (54 kB)\n",
            "\u001b[K     |████████████████████████████████| 54 kB 784 kB/s \n",
            "\u001b[?25hRequirement already satisfied: requests<3.0,>=2.6.0 in /usr/local/lib/python3.7/dist-packages (from prawcore<3,>=2.1->praw) (2.23.0)\n",
            "Requirement already satisfied: chardet<4,>=3.0.2 in /usr/local/lib/python3.7/dist-packages (from requests<3.0,>=2.6.0->prawcore<3,>=2.1->praw) (3.0.4)\n",
            "Requirement already satisfied: urllib3!=1.25.0,!=1.25.1,<1.26,>=1.21.1 in /usr/local/lib/python3.7/dist-packages (from requests<3.0,>=2.6.0->prawcore<3,>=2.1->praw) (1.24.3)\n",
            "Requirement already satisfied: idna<3,>=2.5 in /usr/local/lib/python3.7/dist-packages (from requests<3.0,>=2.6.0->prawcore<3,>=2.1->praw) (2.10)\n",
            "Requirement already satisfied: certifi>=2017.4.17 in /usr/local/lib/python3.7/dist-packages (from requests<3.0,>=2.6.0->prawcore<3,>=2.1->praw) (2021.10.8)\n",
            "Installing collected packages: websocket-client, update-checker, prawcore, praw\n",
            "Successfully installed praw-7.5.0 prawcore-2.3.0 update-checker-0.18.0 websocket-client-1.3.2\n"
          ]
        }
      ],
      "source": [
        "!pip install praw"
      ]
    },
    {
      "cell_type": "code",
      "source": [
        "import praw\n",
        "from datetime import datetime, timezone\n",
        "import pandas as pd\n",
        "import time\n",
        "import tzlocal\n",
        "from tzlocal import get_localzone\n",
        "import pytz"
      ],
      "metadata": {
        "id": "v44-8b8DHRe1"
      },
      "execution_count": 2,
      "outputs": []
    },
    {
      "cell_type": "code",
      "source": [
        "# initialize with appropriate values\n",
        "client_id ='ga1Nrw7hQxO_fTg6P7-f_g'\n",
        "client_secret ='1eZ3WxwCa7svpoNzCWuXbrIGezUFNw'\n",
        "user_agent ='GA_2022'\n",
        "username ='GA_2022'\n",
        "password ='Spring2022-1234_'\n",
        "\n",
        "# creating an authorized reddit instance\n",
        "reddit = praw.Reddit(client_id = client_id, \n",
        "                     client_secret = client_secret, \n",
        "                     username = username, \n",
        "                     password = password,\n",
        "                     user_agent = user_agent) "
      ],
      "metadata": {
        "id": "eztNYLzMHRbm"
      },
      "execution_count": 3,
      "outputs": []
    },
    {
      "cell_type": "code",
      "source": [
        "data = {\"ID\": [], \"Post_Text\": [], \"Total_Comments\": [], \"Score\": [], \"Post_Created\": []}\n",
        "\n",
        "for submission in reddit.subreddit('HERPS').hot(limit=None):\n",
        "    data[\"ID\"].append(submission.id)\n",
        "    data[\"Post_Text\"].append(submission.title + \" \" + submission.selftext)\n",
        "    data[\"Total_Comments\"].append(submission.num_comments)\n",
        "    data[\"Score\"].append(submission.score)\n",
        "    unix_time = submission.created_utc\n",
        "    data[\"Post_Created\"].append(datetime.fromtimestamp(unix_time,pytz.timezone('US/Eastern')))"
      ],
      "metadata": {
        "id": "4tm4vuQOHRRo",
        "colab": {
          "base_uri": "https://localhost:8080/"
        },
        "outputId": "76c87c3c-f3e8-40de-e127-0207229e0358"
      },
      "execution_count": 16,
      "outputs": [
        {
          "output_type": "stream",
          "name": "stderr",
          "text": [
            "It appears that you are using PRAW in an asynchronous environment.\n",
            "It is strongly recommended to use Async PRAW: https://asyncpraw.readthedocs.io.\n",
            "See https://praw.readthedocs.io/en/latest/getting_started/multiple_instances.html#discord-bots-and-asynchronous-environments for more info.\n",
            "\n",
            "It appears that you are using PRAW in an asynchronous environment.\n",
            "It is strongly recommended to use Async PRAW: https://asyncpraw.readthedocs.io.\n",
            "See https://praw.readthedocs.io/en/latest/getting_started/multiple_instances.html#discord-bots-and-asynchronous-environments for more info.\n",
            "\n",
            "It appears that you are using PRAW in an asynchronous environment.\n",
            "It is strongly recommended to use Async PRAW: https://asyncpraw.readthedocs.io.\n",
            "See https://praw.readthedocs.io/en/latest/getting_started/multiple_instances.html#discord-bots-and-asynchronous-environments for more info.\n",
            "\n",
            "It appears that you are using PRAW in an asynchronous environment.\n",
            "It is strongly recommended to use Async PRAW: https://asyncpraw.readthedocs.io.\n",
            "See https://praw.readthedocs.io/en/latest/getting_started/multiple_instances.html#discord-bots-and-asynchronous-environments for more info.\n",
            "\n"
          ]
        }
      ]
    },
    {
      "cell_type": "code",
      "source": [
        "# Saving the data in a pandas dataframe\n",
        "top_posts = pd.DataFrame(data)\n",
        "top_posts"
      ],
      "metadata": {
        "id": "pMqN72W-HRO4",
        "colab": {
          "base_uri": "https://localhost:8080/",
          "height": 467
        },
        "outputId": "6cf5afd5-aef2-4202-962f-ee1ba92ad6eb"
      },
      "execution_count": 17,
      "outputs": [
        {
          "output_type": "execute_result",
          "data": {
            "text/plain": [
              "         ID                                          Post_Text  \\\n",
              "0    sfnd65                GOT A MALE RED-EARED SLIDER TURTLE    \n",
              "1    rh07ar  herps as pets for kids HI, I'm looking for evi...   \n",
              "2    pc1kos     RED EARED SLIDER TURTLE DIGGING & LAYING EGGS    \n",
              "3    pbyrwj       My frog ate a government surveillance drone    \n",
              "4    pa9gmj              My Ornate Box Turtles Are Copulating    \n",
              "..      ...                                                ...   \n",
              "323  1dwddb  Help, I need to fly my RES from NY-LA hey guys...   \n",
              "324  19frlg  I feel like one of few people who think normal...   \n",
              "325   j9bdv  Can anyone identify this lizard(?), seen in cr...   \n",
              "326   c6aba  New Gecko subreddit!  Help me get it going by ...   \n",
              "327  1lbyrl                 Almond Oil for Skin and Hair Care    \n",
              "\n",
              "     Total_Comments  Score              Post_Created  \n",
              "0                 1      0 2022-01-29 12:46:56-05:00  \n",
              "1                 2      1 2021-12-15 09:22:29-05:00  \n",
              "2                 0      2 2021-08-26 11:16:57-04:00  \n",
              "3                 0      0 2021-08-26 08:45:49-04:00  \n",
              "4                 0      2 2021-08-23 17:38:35-04:00  \n",
              "..              ...    ...                       ...  \n",
              "323               3      0 2013-05-07 20:22:21-04:00  \n",
              "324               1      0 2013-02-28 21:28:48-05:00  \n",
              "325               3      0 2011-08-04 19:18:27-04:00  \n",
              "326               0      0 2010-05-20 09:02:44-04:00  \n",
              "327               0      0 2013-08-29 10:30:34-04:00  \n",
              "\n",
              "[328 rows x 5 columns]"
            ],
            "text/html": [
              "\n",
              "  <div id=\"df-aaaf5bc7-eb6e-468d-8a29-b3aa3ee05ccd\">\n",
              "    <div class=\"colab-df-container\">\n",
              "      <div>\n",
              "<style scoped>\n",
              "    .dataframe tbody tr th:only-of-type {\n",
              "        vertical-align: middle;\n",
              "    }\n",
              "\n",
              "    .dataframe tbody tr th {\n",
              "        vertical-align: top;\n",
              "    }\n",
              "\n",
              "    .dataframe thead th {\n",
              "        text-align: right;\n",
              "    }\n",
              "</style>\n",
              "<table border=\"1\" class=\"dataframe\">\n",
              "  <thead>\n",
              "    <tr style=\"text-align: right;\">\n",
              "      <th></th>\n",
              "      <th>ID</th>\n",
              "      <th>Post_Text</th>\n",
              "      <th>Total_Comments</th>\n",
              "      <th>Score</th>\n",
              "      <th>Post_Created</th>\n",
              "    </tr>\n",
              "  </thead>\n",
              "  <tbody>\n",
              "    <tr>\n",
              "      <th>0</th>\n",
              "      <td>sfnd65</td>\n",
              "      <td>GOT A MALE RED-EARED SLIDER TURTLE</td>\n",
              "      <td>1</td>\n",
              "      <td>0</td>\n",
              "      <td>2022-01-29 12:46:56-05:00</td>\n",
              "    </tr>\n",
              "    <tr>\n",
              "      <th>1</th>\n",
              "      <td>rh07ar</td>\n",
              "      <td>herps as pets for kids HI, I'm looking for evi...</td>\n",
              "      <td>2</td>\n",
              "      <td>1</td>\n",
              "      <td>2021-12-15 09:22:29-05:00</td>\n",
              "    </tr>\n",
              "    <tr>\n",
              "      <th>2</th>\n",
              "      <td>pc1kos</td>\n",
              "      <td>RED EARED SLIDER TURTLE DIGGING &amp; LAYING EGGS</td>\n",
              "      <td>0</td>\n",
              "      <td>2</td>\n",
              "      <td>2021-08-26 11:16:57-04:00</td>\n",
              "    </tr>\n",
              "    <tr>\n",
              "      <th>3</th>\n",
              "      <td>pbyrwj</td>\n",
              "      <td>My frog ate a government surveillance drone</td>\n",
              "      <td>0</td>\n",
              "      <td>0</td>\n",
              "      <td>2021-08-26 08:45:49-04:00</td>\n",
              "    </tr>\n",
              "    <tr>\n",
              "      <th>4</th>\n",
              "      <td>pa9gmj</td>\n",
              "      <td>My Ornate Box Turtles Are Copulating</td>\n",
              "      <td>0</td>\n",
              "      <td>2</td>\n",
              "      <td>2021-08-23 17:38:35-04:00</td>\n",
              "    </tr>\n",
              "    <tr>\n",
              "      <th>...</th>\n",
              "      <td>...</td>\n",
              "      <td>...</td>\n",
              "      <td>...</td>\n",
              "      <td>...</td>\n",
              "      <td>...</td>\n",
              "    </tr>\n",
              "    <tr>\n",
              "      <th>323</th>\n",
              "      <td>1dwddb</td>\n",
              "      <td>Help, I need to fly my RES from NY-LA hey guys...</td>\n",
              "      <td>3</td>\n",
              "      <td>0</td>\n",
              "      <td>2013-05-07 20:22:21-04:00</td>\n",
              "    </tr>\n",
              "    <tr>\n",
              "      <th>324</th>\n",
              "      <td>19frlg</td>\n",
              "      <td>I feel like one of few people who think normal...</td>\n",
              "      <td>1</td>\n",
              "      <td>0</td>\n",
              "      <td>2013-02-28 21:28:48-05:00</td>\n",
              "    </tr>\n",
              "    <tr>\n",
              "      <th>325</th>\n",
              "      <td>j9bdv</td>\n",
              "      <td>Can anyone identify this lizard(?), seen in cr...</td>\n",
              "      <td>3</td>\n",
              "      <td>0</td>\n",
              "      <td>2011-08-04 19:18:27-04:00</td>\n",
              "    </tr>\n",
              "    <tr>\n",
              "      <th>326</th>\n",
              "      <td>c6aba</td>\n",
              "      <td>New Gecko subreddit!  Help me get it going by ...</td>\n",
              "      <td>0</td>\n",
              "      <td>0</td>\n",
              "      <td>2010-05-20 09:02:44-04:00</td>\n",
              "    </tr>\n",
              "    <tr>\n",
              "      <th>327</th>\n",
              "      <td>1lbyrl</td>\n",
              "      <td>Almond Oil for Skin and Hair Care</td>\n",
              "      <td>0</td>\n",
              "      <td>0</td>\n",
              "      <td>2013-08-29 10:30:34-04:00</td>\n",
              "    </tr>\n",
              "  </tbody>\n",
              "</table>\n",
              "<p>328 rows × 5 columns</p>\n",
              "</div>\n",
              "      <button class=\"colab-df-convert\" onclick=\"convertToInteractive('df-aaaf5bc7-eb6e-468d-8a29-b3aa3ee05ccd')\"\n",
              "              title=\"Convert this dataframe to an interactive table.\"\n",
              "              style=\"display:none;\">\n",
              "        \n",
              "  <svg xmlns=\"http://www.w3.org/2000/svg\" height=\"24px\"viewBox=\"0 0 24 24\"\n",
              "       width=\"24px\">\n",
              "    <path d=\"M0 0h24v24H0V0z\" fill=\"none\"/>\n",
              "    <path d=\"M18.56 5.44l.94 2.06.94-2.06 2.06-.94-2.06-.94-.94-2.06-.94 2.06-2.06.94zm-11 1L8.5 8.5l.94-2.06 2.06-.94-2.06-.94L8.5 2.5l-.94 2.06-2.06.94zm10 10l.94 2.06.94-2.06 2.06-.94-2.06-.94-.94-2.06-.94 2.06-2.06.94z\"/><path d=\"M17.41 7.96l-1.37-1.37c-.4-.4-.92-.59-1.43-.59-.52 0-1.04.2-1.43.59L10.3 9.45l-7.72 7.72c-.78.78-.78 2.05 0 2.83L4 21.41c.39.39.9.59 1.41.59.51 0 1.02-.2 1.41-.59l7.78-7.78 2.81-2.81c.8-.78.8-2.07 0-2.86zM5.41 20L4 18.59l7.72-7.72 1.47 1.35L5.41 20z\"/>\n",
              "  </svg>\n",
              "      </button>\n",
              "      \n",
              "  <style>\n",
              "    .colab-df-container {\n",
              "      display:flex;\n",
              "      flex-wrap:wrap;\n",
              "      gap: 12px;\n",
              "    }\n",
              "\n",
              "    .colab-df-convert {\n",
              "      background-color: #E8F0FE;\n",
              "      border: none;\n",
              "      border-radius: 50%;\n",
              "      cursor: pointer;\n",
              "      display: none;\n",
              "      fill: #1967D2;\n",
              "      height: 32px;\n",
              "      padding: 0 0 0 0;\n",
              "      width: 32px;\n",
              "    }\n",
              "\n",
              "    .colab-df-convert:hover {\n",
              "      background-color: #E2EBFA;\n",
              "      box-shadow: 0px 1px 2px rgba(60, 64, 67, 0.3), 0px 1px 3px 1px rgba(60, 64, 67, 0.15);\n",
              "      fill: #174EA6;\n",
              "    }\n",
              "\n",
              "    [theme=dark] .colab-df-convert {\n",
              "      background-color: #3B4455;\n",
              "      fill: #D2E3FC;\n",
              "    }\n",
              "\n",
              "    [theme=dark] .colab-df-convert:hover {\n",
              "      background-color: #434B5C;\n",
              "      box-shadow: 0px 1px 3px 1px rgba(0, 0, 0, 0.15);\n",
              "      filter: drop-shadow(0px 1px 2px rgba(0, 0, 0, 0.3));\n",
              "      fill: #FFFFFF;\n",
              "    }\n",
              "  </style>\n",
              "\n",
              "      <script>\n",
              "        const buttonEl =\n",
              "          document.querySelector('#df-aaaf5bc7-eb6e-468d-8a29-b3aa3ee05ccd button.colab-df-convert');\n",
              "        buttonEl.style.display =\n",
              "          google.colab.kernel.accessAllowed ? 'block' : 'none';\n",
              "\n",
              "        async function convertToInteractive(key) {\n",
              "          const element = document.querySelector('#df-aaaf5bc7-eb6e-468d-8a29-b3aa3ee05ccd');\n",
              "          const dataTable =\n",
              "            await google.colab.kernel.invokeFunction('convertToInteractive',\n",
              "                                                     [key], {});\n",
              "          if (!dataTable) return;\n",
              "\n",
              "          const docLinkHtml = 'Like what you see? Visit the ' +\n",
              "            '<a target=\"_blank\" href=https://colab.research.google.com/notebooks/data_table.ipynb>data table notebook</a>'\n",
              "            + ' to learn more about interactive tables.';\n",
              "          element.innerHTML = '';\n",
              "          dataTable['output_type'] = 'display_data';\n",
              "          await google.colab.output.renderOutput(dataTable, element);\n",
              "          const docLink = document.createElement('div');\n",
              "          docLink.innerHTML = docLinkHtml;\n",
              "          element.appendChild(docLink);\n",
              "        }\n",
              "      </script>\n",
              "    </div>\n",
              "  </div>\n",
              "  "
            ]
          },
          "metadata": {},
          "execution_count": 17
        }
      ]
    },
    {
      "cell_type": "code",
      "source": [
        "top_posts.to_csv('HERPS_comments_main.csv',index=False)"
      ],
      "metadata": {
        "id": "Iga9jSlYHRLz"
      },
      "execution_count": 18,
      "outputs": []
    },
    {
      "cell_type": "code",
      "source": [
        "top_posts.head(2)"
      ],
      "metadata": {
        "id": "a4O9k8CjHRII"
      },
      "execution_count": null,
      "outputs": []
    },
    {
      "cell_type": "markdown",
      "source": [
        "Getting Individual comments"
      ],
      "metadata": {
        "id": "53bisTtsHfy1"
      }
    },
    {
      "cell_type": "code",
      "source": [
        "headlines = {\"ID\": [], \"Comment\": [], \"Comment_Created\": [], \"Score\": []}"
      ],
      "metadata": {
        "id": "dIkROkwTHRFk"
      },
      "execution_count": null,
      "outputs": []
    },
    {
      "cell_type": "code",
      "source": [
        "for index, row in top_posts.iterrows():\n",
        "  submission = reddit.submission(id = row['ID'])\n",
        "  submission.comments.replace_more(limit = None)\n",
        "  for comment in submission.comments.list():\n",
        "      headlines[\"ID\"].append(row['ID'])\n",
        "      headlines[\"Comment\"].append(comment.body)\n",
        "      # instantiating the Comment class\n",
        "      comment = reddit.comment(comment.id)\n",
        "      # fetching the Unix time\n",
        "      unix_time = comment.created_utc\n",
        "      headlines[\"Comment_Created\"].append(str(datetime.fromtimestamp(unix_time)))\n",
        "      headlines[\"Score\"].append(comment.score)"
      ],
      "metadata": {
        "id": "59LQ1rE-HRDG"
      },
      "execution_count": null,
      "outputs": []
    },
    {
      "cell_type": "code",
      "source": [
        "# Saving the data in a pandas dataframe\n",
        "top_posts = pd.DataFrame(headlines)\n",
        "top_posts"
      ],
      "metadata": {
        "id": "r7zgvt5CHRAX"
      },
      "execution_count": null,
      "outputs": []
    },
    {
      "cell_type": "code",
      "source": [
        "top_posts.to_csv('OCD_comments_individual.csv',index=False)"
      ],
      "metadata": {
        "id": "T97p0uz0Hmzz"
      },
      "execution_count": null,
      "outputs": []
    },
    {
      "cell_type": "code",
      "source": [
        "top_posts.head(2)"
      ],
      "metadata": {
        "id": "YzZJbbrUHqTZ"
      },
      "execution_count": null,
      "outputs": []
    }
  ]
}