{
  "nbformat": 4,
  "nbformat_minor": 0,
  "metadata": {
    "colab": {
      "name": "Raddit_Data_Collection",
      "provenance": [],
      "collapsed_sections": []
    },
    "kernelspec": {
      "name": "python3",
      "display_name": "Python 3"
    },
    "language_info": {
      "name": "python"
    }
  },
  "cells": [
    {
      "cell_type": "code",
      "execution_count": null,
      "metadata": {
        "id": "tlDqpT-HG3Pl"
      },
      "outputs": [],
      "source": [
        "!pip install praw"
      ]
    },
    {
      "cell_type": "code",
      "source": [
        "import praw\n",
        "from datetime import datetime, timezone\n",
        "import pandas as pd\n",
        "import time\n",
        "import tzlocal\n",
        "from tzlocal import get_localzone\n",
        "import pytz"
      ],
      "metadata": {
        "id": "v44-8b8DHRe1"
      },
      "execution_count": null,
      "outputs": []
    },
    {
      "cell_type": "code",
      "source": [
        "# initialize with appropriate values\n",
        "client_id ='ga1Nrw7hQxO_fTg6P7-f_g'\n",
        "client_secret ='1eZ3WxwCa7svpoNzCWuXbrIGezUFNw'\n",
        "user_agent ='GA_2022'\n",
        "username ='GA_2022'\n",
        "password ='Spring2022-1234_'\n",
        "\n",
        "# creating an authorized reddit instance\n",
        "reddit = praw.Reddit(client_id = client_id, \n",
        "                     client_secret = client_secret, \n",
        "                     username = username, \n",
        "                     password = password,\n",
        "                     user_agent = user_agent) "
      ],
      "metadata": {
        "id": "eztNYLzMHRbm"
      },
      "execution_count": null,
      "outputs": []
    },
    {
      "cell_type": "code",
      "source": [
        "data = set()\n",
        "for submission in reddit.subreddit('OCD').hot(limit=None):\n",
        "  data.add(submission.title)\n",
        "print(len(data))"
      ],
      "metadata": {
        "id": "AerIxejTHRXT"
      },
      "execution_count": null,
      "outputs": []
    },
    {
      "cell_type": "code",
      "source": [
        "data = set()\n",
        "for submission in reddit.subreddit('OCD').hot(limit=None):\n",
        "  data.add(submission.title)\n",
        "print(len(data))"
      ],
      "metadata": {
        "id": "POsrPWHKHRUf"
      },
      "execution_count": null,
      "outputs": []
    },
    {
      "cell_type": "code",
      "source": [
        "data = {\"Title\": [], \"Post_Text\": [], \"ID\": [], \"Score\": [], \"Total_Comments\": [], \"Post_URL\": [], \"Post_Created\": []}\n",
        "\n",
        "for submission in reddit.subreddit('HIV').hot(limit=None):\n",
        "    data[\"Title\"].append(submission.title)\n",
        "    data[\"Post_Text\"].append(submission.selftext)\n",
        "    data[\"ID\"].append(submission.id)\n",
        "    data[\"Score\"].append(submission.score)\n",
        "    data[\"Total_Comments\"].append(submission.num_comments)\n",
        "    data[\"Post_URL\"].append(submission.url)\n",
        "    unix_time = submission.created_utc\n",
        "    data[\"Post_Created\"].append(datetime.fromtimestamp(unix_time,pytz.timezone('US/Eastern')))"
      ],
      "metadata": {
        "id": "4tm4vuQOHRRo"
      },
      "execution_count": null,
      "outputs": []
    },
    {
      "cell_type": "code",
      "source": [
        "# Saving the data in a pandas dataframe\n",
        "top_posts = pd.DataFrame(data)\n",
        "top_posts"
      ],
      "metadata": {
        "id": "pMqN72W-HRO4"
      },
      "execution_count": null,
      "outputs": []
    },
    {
      "cell_type": "code",
      "source": [
        "top_posts.to_csv('OCD_comments_main.csv',index=False)"
      ],
      "metadata": {
        "id": "Iga9jSlYHRLz"
      },
      "execution_count": null,
      "outputs": []
    },
    {
      "cell_type": "code",
      "source": [
        "top_posts.head(2)"
      ],
      "metadata": {
        "id": "a4O9k8CjHRII"
      },
      "execution_count": null,
      "outputs": []
    },
    {
      "cell_type": "markdown",
      "source": [
        "Getting Individual comments"
      ],
      "metadata": {
        "id": "53bisTtsHfy1"
      }
    },
    {
      "cell_type": "code",
      "source": [
        "headlines = {\"ID\": [], \"Comment\": [], \"Comment_Created\": [], \"Score\": []}"
      ],
      "metadata": {
        "id": "dIkROkwTHRFk"
      },
      "execution_count": null,
      "outputs": []
    },
    {
      "cell_type": "code",
      "source": [
        "for index, row in top_posts.iterrows():\n",
        "  submission = reddit.submission(id = row['ID'])\n",
        "  submission.comments.replace_more(limit = None)\n",
        "  for comment in submission.comments.list():\n",
        "      headlines[\"ID\"].append(row['ID'])\n",
        "      headlines[\"Comment\"].append(comment.body)\n",
        "      # instantiating the Comment class\n",
        "      comment = reddit.comment(comment.id)\n",
        "      # fetching the Unix time\n",
        "      unix_time = comment.created_utc\n",
        "      headlines[\"Comment_Created\"].append(str(datetime.fromtimestamp(unix_time)))\n",
        "      headlines[\"Score\"].append(comment.score)"
      ],
      "metadata": {
        "id": "59LQ1rE-HRDG"
      },
      "execution_count": null,
      "outputs": []
    },
    {
      "cell_type": "code",
      "source": [
        "# Saving the data in a pandas dataframe\n",
        "top_posts = pd.DataFrame(headlines)\n",
        "top_posts"
      ],
      "metadata": {
        "id": "r7zgvt5CHRAX"
      },
      "execution_count": null,
      "outputs": []
    },
    {
      "cell_type": "code",
      "source": [
        "top_posts.to_csv('OCD_comments_individual.csv',index=False)"
      ],
      "metadata": {
        "id": "T97p0uz0Hmzz"
      },
      "execution_count": null,
      "outputs": []
    },
    {
      "cell_type": "code",
      "source": [
        "top_posts.head(2)"
      ],
      "metadata": {
        "id": "YzZJbbrUHqTZ"
      },
      "execution_count": null,
      "outputs": []
    }
  ]
}